{
 "cells": [
  {
   "cell_type": "markdown",
   "metadata": {},
   "source": [
    "## Custom iteration in Python: a use case with Pandas.\n",
    "\n",
    "Python offers convenient ways to programmatically define how to iterate on structures.\n",
    "\n",
    "Before going further, be sure to understand (know how to explain):\n",
    " - what an iterable structure is in Python;\n",
    " - how the yield keyword works.\n",
    " \n",
    "We will work in this notebook with the following data, representing trajectories supervising the Tour de France cycling race:"
   ]
  },
  {
   "cell_type": "code",
   "execution_count": null,
   "metadata": {},
   "outputs": [],
   "source": [
    "import pandas as pd\n",
    "\n",
    "df = pd.read_json(\"data/tour_de_france.json.gz\")\n",
    "df.shape"
   ]
  },
  {
   "cell_type": "markdown",
   "metadata": {},
   "source": [
    "Let's have a look at a sample of this data. Two columns will be of interest to us:\n",
    "- `icao24` is an hexadecimal identifier of the transponder of the aircraft.  \n",
    "  It is (almost) equivalent to its tail number;\n",
    "- `callsign` is what appears on the radar screen of the air traffic controller.  \n",
    "  It corresponds to a mission, or for a commercial flight, to a commercial flight number. It is not enough to identify a flight as the same callsign may be reused over several days or even sometimes in the same day."
   ]
  },
  {
   "cell_type": "code",
   "execution_count": null,
   "metadata": {},
   "outputs": [],
   "source": [
    "df.sample(10)"
   ]
  },
  {
   "cell_type": "markdown",
   "metadata": {},
   "source": [
    "All data for all trajectories has been flattened in one single dataframe.\n",
    "\n",
    "<div class='alert alert-warning'>\n",
    "    <b>Exercice:</b> Let's write an <code>iterate_callsign(data)</code> function that will <em>yield</em> one sub-dataframe for each callsign.\n",
    "</div>"
   ]
  },
  {
   "cell_type": "code",
   "execution_count": null,
   "metadata": {},
   "outputs": [],
   "source": [
    "# %load solutions/iterate_callsign.py\n"
   ]
  },
  {
   "cell_type": "markdown",
   "metadata": {},
   "source": [
    "Let's check the first and last timestamp recorded for this subset:"
   ]
  },
  {
   "cell_type": "code",
   "execution_count": null,
   "metadata": {},
   "outputs": [],
   "source": [
    "elt = next(iterate_callsign(df))\n",
    "elt.timestamp.min(), elt.timestamp.max()"
   ]
  },
  {
   "cell_type": "code",
   "execution_count": null,
   "metadata": {},
   "outputs": [],
   "source": [
    "elt.agg(dict(timestamp=[\"min\", \"max\"]))"
   ]
  },
  {
   "cell_type": "markdown",
   "metadata": {},
   "source": [
    "In the end wrote a function that splits our dataframe by callsign (= mission code), but it is obviously not enough to separate trajectories flying over several days.\n",
    "\n",
    "We may count how many trajectories we found:"
   ]
  },
  {
   "cell_type": "code",
   "execution_count": null,
   "metadata": {},
   "outputs": [],
   "source": [
    "sum(1 for _ in iterate_callsign(df))"
   ]
  },
  {
   "cell_type": "markdown",
   "metadata": {},
   "source": [
    "For comparison with other ways to iterate, let's use this convenient aggregation method: it seems our dataset is heavily unbalanced with a lot of `ASR172B` flights."
   ]
  },
  {
   "cell_type": "code",
   "execution_count": null,
   "metadata": {},
   "outputs": [],
   "source": [
    "df.groupby(\"callsign\").agg(dict(timestamp=[\"count\", \"min\", \"max\"]))"
   ]
  },
  {
   "cell_type": "markdown",
   "metadata": {},
   "source": [
    "A smarter way to iterate may be to use both `icao24` code and `callsign` for building our iteration method.\n",
    "\n",
    "<div class='alert alert-warning'>\n",
    "    <b>Exercice:</b> Let's write an <code>iterate_icao24_callsign(data)</code> function that will <em>yield</em> one sub-dataframe for each icao24/callsign pair. Count how many elements you get.\n",
    "</div>"
   ]
  },
  {
   "cell_type": "code",
   "execution_count": null,
   "metadata": {},
   "outputs": [],
   "source": [
    "# %load solutions/iterate_icao24_callsign.py\n"
   ]
  },
  {
   "cell_type": "markdown",
   "metadata": {},
   "source": [
    "Let's compare the groups we managed to produce."
   ]
  },
  {
   "cell_type": "code",
   "execution_count": null,
   "metadata": {},
   "outputs": [],
   "source": [
    "df.groupby([\"icao24\", \"callsign\"]).agg(dict(timestamp=[\"count\", \"min\", \"max\"]))"
   ]
  },
  {
   "cell_type": "markdown",
   "metadata": {},
   "source": [
    "With this new method, we managed to separate one `ASR172B` mission that has been flown with a different aircraft on July 25th. But we are still being inefficient for the other ones."
   ]
  },
  {
   "cell_type": "markdown",
   "metadata": {},
   "source": [
    "<div class='alert alert-warning'>\n",
    "    <b>Exercice:</b> Let's store in the <code>bigger_chunk</code> variable all data associated to an `icao24` code equal to 3924a4.\n",
    "</div>"
   ]
  },
  {
   "cell_type": "code",
   "execution_count": null,
   "metadata": {},
   "outputs": [],
   "source": [
    "# %load solutions/bigger_chunk.py\n"
   ]
  },
  {
   "cell_type": "markdown",
   "metadata": {},
   "source": [
    "<div class='alert alert-warning'>\n",
    "    <b>Exercice:</b> Suggest a way to plot how timestamps are distributed in July.\n",
    "</div>"
   ]
  },
  {
   "cell_type": "code",
   "execution_count": null,
   "metadata": {},
   "outputs": [],
   "source": [
    "# %load solutions/bigger_chunk_plot.py\n"
   ]
  },
  {
   "cell_type": "markdown",
   "metadata": {},
   "source": [
    "What your plot should suggest is that these aircraft do not continuously fly. They are recording data continuously throughout the month but have long breaks in between (most probably night time)\n",
    "\n",
    "Let's see how much time is left between two consecutive timestamps:"
   ]
  },
  {
   "cell_type": "code",
   "execution_count": null,
   "metadata": {},
   "outputs": [],
   "source": [
    "bigger_chunk.timestamp.diff().dt.total_seconds().plot.hist(bins=20)"
   ]
  },
  {
   "cell_type": "markdown",
   "metadata": {},
   "source": [
    "Of course, for most samples, we get a decent sampling of the trajectory, hence the high density toward zero. \n",
    "\n",
    "We may adapt the command to plot the density of higher timestamp differences:"
   ]
  },
  {
   "cell_type": "code",
   "execution_count": null,
   "metadata": {},
   "outputs": [],
   "source": [
    "bigger_chunk.timestamp.diff().dt.total_seconds().loc[lambda x: x > 100].plot.hist(bins=20)"
   ]
  },
  {
   "cell_type": "markdown",
   "metadata": {},
   "source": [
    "This means that trajectories are separated by at least 60000 seconds (about 17 hours). We can use this idea to better iterate on our data. Let's set an arbitrary threshold (to be passed in parameter, but we could start with 20000 for instance), and yield chunks of the `bigger_chunk` dataset corresponding to consecutive timestamps.\n",
    "\n",
    "<div class='alert alert-warning'>\n",
    "    <b>Exercice:</b> Write an <code>iterate_time(data, threshold)</code> function that yields pieces of trajectories corresponding to consecutive timestamps of less than threshold seconds.\n",
    "</div>"
   ]
  },
  {
   "cell_type": "code",
   "execution_count": null,
   "metadata": {},
   "outputs": [],
   "source": [
    "# %load solutions/iterate_time.py\n"
   ]
  },
  {
   "cell_type": "markdown",
   "metadata": {},
   "source": [
    "See how many trajectories you get now (on `bigger_chunk`, i.e. aircraft `3924a4`):"
   ]
  },
  {
   "cell_type": "code",
   "execution_count": null,
   "metadata": {},
   "outputs": [],
   "source": [
    "sum(1 for _ in iterate_time(bigger_chunk, 20000))"
   ]
  },
  {
   "cell_type": "code",
   "execution_count": null,
   "metadata": {},
   "outputs": [],
   "source": [
    "list(\n",
    "    (str(chunk.timestamp.min()), str(chunk.timestamp.max()))\n",
    "    for chunk in iterate_time(bigger_chunk, 20000)\n",
    ")"
   ]
  },
  {
   "cell_type": "markdown",
   "metadata": {},
   "source": [
    "<div class='alert alert-warning'>\n",
    "    <b>Wrap it up!</b> Write an <code>iterate_all(data, threshold)</code> function that combines iteration on aircraft icao24, callsign and timestamp intervals.\n",
    "</div>"
   ]
  },
  {
   "cell_type": "code",
   "execution_count": null,
   "metadata": {},
   "outputs": [],
   "source": [
    "# %load solutions/iterate_all.py\n"
   ]
  },
  {
   "cell_type": "code",
   "execution_count": null,
   "metadata": {},
   "outputs": [],
   "source": [
    "sum(1 for _ in iterate_all(df, 20000))"
   ]
  },
  {
   "cell_type": "markdown",
   "metadata": {},
   "source": [
    "You may now build a summary table like the following.\n",
    "\n",
    "<div class=\"alert alert-danger\">\n",
    "    <b>Be sure to fully understand this notebook!</b> We will be using these results during next session.\n",
    "</div>"
   ]
  },
  {
   "cell_type": "code",
   "execution_count": null,
   "metadata": {},
   "outputs": [],
   "source": [
    "pd.DataFrame.from_records(\n",
    "    [\n",
    "        {\n",
    "            \"icao24\": chunk.icao24.min(),\n",
    "            \"callsign\": chunk.callsign.min(),\n",
    "            \"start\": chunk.timestamp.min(),\n",
    "            \"stop\": chunk.timestamp.max(),\n",
    "        }\n",
    "        for chunk in iterate_all(df, 20000)\n",
    "    ]\n",
    ")"
   ]
  },
  {
   "cell_type": "code",
   "execution_count": null,
   "metadata": {},
   "outputs": [],
   "source": []
  }
 ],
 "metadata": {
  "kernelspec": {
   "display_name": "Python 3",
   "language": "python",
   "name": "python3"
  },
  "language_info": {
   "codemirror_mode": {
    "name": "ipython",
    "version": 3
   },
   "file_extension": ".py",
   "mimetype": "text/x-python",
   "name": "python",
   "nbconvert_exporter": "python",
   "pygments_lexer": "ipython3",
   "version": "3.7.0"
  }
 },
 "nbformat": 4,
 "nbformat_minor": 4
}
